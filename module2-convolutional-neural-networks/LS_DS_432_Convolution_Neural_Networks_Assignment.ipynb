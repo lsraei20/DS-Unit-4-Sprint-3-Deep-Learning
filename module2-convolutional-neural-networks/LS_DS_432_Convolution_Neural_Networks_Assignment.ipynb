{
  "nbformat": 4,
  "nbformat_minor": 0,
  "metadata": {
    "kernelspec": {
      "name": "python3",
      "display_name": "Python 3"
    },
    "nteract": {
      "version": "0.23.1"
    },
    "colab": {
      "name": "LS_DS_432_Convolution_Neural_Networks_Assignment.ipynb",
      "provenance": []
    },
    "accelerator": "GPU"
  },
  "cells": [
    {
      "cell_type": "markdown",
      "metadata": {
        "id": "fc4yMj7mtCAZ",
        "colab_type": "text"
      },
      "source": [
        "<img align=\"left\" src=\"https://lever-client-logos.s3.amazonaws.com/864372b1-534c-480e-acd5-9711f850815c-1524247202159.png\" width=200>\n",
        "<br></br>\n",
        "<br></br>\n",
        "\n",
        "## *Data Science Unit 4 Sprint 3 Assignment 2*\n",
        "# Convolutional Neural Networks (CNNs)"
      ]
    },
    {
      "cell_type": "markdown",
      "metadata": {
        "colab_type": "text",
        "id": "0lfZdD_cp1t5"
      },
      "source": [
        "# Assignment\n",
        "\n",
        "- <a href=\"#p1\">Part 1:</a> Pre-Trained Model\n",
        "- <a href=\"#p2\">Part 2:</a> Custom CNN Model\n",
        "- <a href=\"#p3\">Part 3:</a> CNN with Data Augmentation\n",
        "\n",
        "\n",
        "You will apply three different CNN models to a binary image classification model using Keras. Classify images of Mountains (`./data/train/mountain/*`) and images of forests (`./data/train/forest/*`). Treat mountains as the positive class (1) and the forest images as the negative (zero). \n",
        "\n",
        "|Mountain (+)|Forest (-)|\n",
        "|---|---|\n",
        "|![](https://github.com/LambdaSchool/DS-Unit-4-Sprint-3-Deep-Learning/blob/main/module2-convolutional-neural-networks/data/train/mountain/art1131.jpg?raw=1)|![](https://github.com/LambdaSchool/DS-Unit-4-Sprint-3-Deep-Learning/blob/main/module2-convolutional-neural-networks/data/validation/forest/cdmc317.jpg?raw=1)|\n",
        "\n",
        "The problem is relatively difficult given that the sample is tiny: there are about 350 observations per class. This sample size might be something that you can expect with prototyping an image classification problem/solution at work. Get accustomed to evaluating several different possible models."
      ]
    },
    {
      "cell_type": "markdown",
      "metadata": {
        "colab_type": "text",
        "id": "1eawBP-otCAb"
      },
      "source": [
        "# Pre - Trained Model\n",
        "<a id=\"p1\"></a>\n",
        "\n",
        "Load a pretrained network from Keras, [ResNet50](https://tfhub.dev/google/imagenet/resnet_v1_50/classification/1) - a 50 layer deep network trained to recognize [1000 objects](https://storage.googleapis.com/download.tensorflow.org/data/ImageNetLabels.txt). Starting usage:\n",
        "\n",
        "```python\n",
        "import numpy as np\n",
        "\n",
        "from tensorflow.keras.applications.resnet50 import ResNet50\n",
        "from tensorflow.keras.preprocessing import image\n",
        "from tensorflow.keras.applications.resnet50 import preprocess_input, decode_predictions\n",
        "\n",
        "from tensorflow.keras.layers import Dense, GlobalAveragePooling2D\n",
        "from tensorflow.keras.models import Model # This is the functional API\n",
        "\n",
        "resnet = ResNet50(weights='imagenet', include_top=False)\n",
        "\n",
        "```\n",
        "\n",
        "The `include_top` parameter in `ResNet50` will remove the full connected layers from the ResNet model. The next step is to turn off the training of the ResNet layers. We want to use the learned parameters without updating them in future training passes. \n",
        "\n",
        "```python\n",
        "for layer in resnet.layers:\n",
        "    layer.trainable = False\n",
        "```\n",
        "\n",
        "Using the Keras functional API, we will need to additional additional full connected layers to our model. We we removed the top layers, we removed all preivous fully connected layers. In other words, we kept only the feature processing portions of our network. You can expert with additional layers beyond what's listed here. The `GlobalAveragePooling2D` layer functions as a really fancy flatten function by taking the average of each of the last convolutional layer outputs (which is two dimensional still). \n",
        "\n",
        "```python\n",
        "x = resnet.output\n",
        "x = GlobalAveragePooling2D()(x) # This layer is a really fancy flatten\n",
        "x = Dense(1024, activation='relu')(x)\n",
        "predictions = Dense(1, activation='sigmoid')(x)\n",
        "model = Model(resnet.input, predictions)\n",
        "```\n",
        "\n",
        "Your assignment is to apply the transfer learning above to classify images of Mountains (`./data/train/mountain/*`) and images of forests (`./data/train/forest/*`). Treat mountains as the positive class (1) and the forest images as the negative (zero). \n",
        "\n",
        "Steps to complete assignment: \n",
        "1. Load in Image Data into numpy arrays (`X`) \n",
        "2. Create a `y` for the labels\n",
        "3. Train your model with pre-trained layers from resnet\n",
        "4. Report your model's accuracy"
      ]
    },
    {
      "cell_type": "markdown",
      "metadata": {
        "id": "CLdGdXCatCAb",
        "colab_type": "text"
      },
      "source": [
        "## Load in Data\n",
        "\n",
        "This surprisingly more difficult than it seems, because you are working with directories of images instead of a single file. This boiler plate will help you download a zipped version of the directory of images. The directory is organized into \"train\" and \"validation\" which you can use inside an `ImageGenerator` class to stream batches of images thru your model.  \n"
      ]
    },
    {
      "cell_type": "markdown",
      "metadata": {
        "id": "moRVuHUqtCAc",
        "colab_type": "text"
      },
      "source": [
        "### Download & Summarize the Data\n",
        "\n",
        "This step is completed for you. Just run the cells and review the results. "
      ]
    },
    {
      "cell_type": "code",
      "metadata": {
        "id": "AR66H8o9tCAc",
        "colab_type": "code",
        "colab": {
          "base_uri": "https://localhost:8080/",
          "height": 51
        },
        "outputId": "2619fc07-dd25-4007-a67b-2ca196fb03e7"
      },
      "source": [
        "import tensorflow as tf\n",
        "import os\n",
        "\n",
        "_URL = 'https://github.com/LambdaSchool/DS-Unit-4-Sprint-3-Deep-Learning/blob/main/module2-convolutional-neural-networks/data.zip?raw=true'\n",
        "\n",
        "path_to_zip = tf.keras.utils.get_file('./data.zip', origin=_URL, extract=True)\n",
        "PATH = os.path.join(os.path.dirname(path_to_zip), 'data')"
      ],
      "execution_count": 10,
      "outputs": [
        {
          "output_type": "stream",
          "text": [
            "Downloading data from https://github.com/LambdaSchool/DS-Unit-4-Sprint-3-Deep-Learning/blob/main/module2-convolutional-neural-networks/data.zip?raw=true\n",
            "42172416/42170838 [==============================] - 1s 0us/step\n"
          ],
          "name": "stdout"
        }
      ]
    },
    {
      "cell_type": "code",
      "metadata": {
        "id": "MNFsIu_KtCAg",
        "colab_type": "code",
        "colab": {}
      },
      "source": [
        "train_dir = os.path.join(PATH, 'train')\n",
        "validation_dir = os.path.join(PATH, 'validation')"
      ],
      "execution_count": 11,
      "outputs": []
    },
    {
      "cell_type": "code",
      "metadata": {
        "id": "OsI9BQLotCAj",
        "colab_type": "code",
        "colab": {}
      },
      "source": [
        "train_mountain_dir = os.path.join(train_dir, 'mountain')  # directory with our training cat pictures\n",
        "train_forest_dir = os.path.join(train_dir, 'forest')  # directory with our training dog pictures\n",
        "validation_mountain_dir = os.path.join(validation_dir, 'mountain')  # directory with our validation cat pictures\n",
        "validation_forest_dir = os.path.join(validation_dir, 'forest')  # directory with our validation dog pictures"
      ],
      "execution_count": 12,
      "outputs": []
    },
    {
      "cell_type": "code",
      "metadata": {
        "id": "NUs1e5-XtCAl",
        "colab_type": "code",
        "colab": {}
      },
      "source": [
        "num_mountain_tr = len(os.listdir(train_mountain_dir))\n",
        "num_forest_tr = len(os.listdir(train_forest_dir))\n",
        "\n",
        "num_mountain_val = len(os.listdir(validation_mountain_dir))\n",
        "num_forest_val = len(os.listdir(validation_forest_dir))\n",
        "\n",
        "total_train = num_mountain_tr + num_forest_tr\n",
        "total_val = num_mountain_val + num_forest_val"
      ],
      "execution_count": 13,
      "outputs": []
    },
    {
      "cell_type": "code",
      "metadata": {
        "id": "ZmklbgSMtCAn",
        "colab_type": "code",
        "colab": {
          "base_uri": "https://localhost:8080/",
          "height": 136
        },
        "outputId": "26e2bf48-4f00-42ca-a268-47c39cc8d1b9"
      },
      "source": [
        "print('total training mountain images:', num_mountain_tr)\n",
        "print('total training forest images:', num_forest_tr)\n",
        "\n",
        "print('total validation mountain images:', num_mountain_val)\n",
        "print('total validation forest images:', num_forest_val)\n",
        "print(\"--\")\n",
        "print(\"Total training images:\", total_train)\n",
        "print(\"Total validation images:\", total_val)"
      ],
      "execution_count": 14,
      "outputs": [
        {
          "output_type": "stream",
          "text": [
            "total training mountain images: 254\n",
            "total training forest images: 270\n",
            "total validation mountain images: 125\n",
            "total validation forest images: 62\n",
            "--\n",
            "Total training images: 524\n",
            "Total validation images: 187\n"
          ],
          "name": "stdout"
        }
      ]
    },
    {
      "cell_type": "markdown",
      "metadata": {
        "id": "dQ4ag4ultCAq",
        "colab_type": "text"
      },
      "source": [
        "### Keras `ImageGenerator` to Process the Data\n",
        "\n",
        "This step is completed for you, but please review the code. The `ImageGenerator` class reads in batches of data from a directory and pass them to the model one batch at a time. Just like large text files, this method is advantageous, because it stifles the need to load a bunch of images into memory. \n",
        "\n",
        "Check out the documentation for this class method: [Keras `ImageGenerator` Class](https://keras.io/preprocessing/image/#imagedatagenerator-class). You'll expand it's use in the third assignment objective."
      ]
    },
    {
      "cell_type": "code",
      "metadata": {
        "id": "67i9IW49tCAq",
        "colab_type": "code",
        "colab": {}
      },
      "source": [
        "batch_size = 16\n",
        "epochs = 50\n",
        "IMG_HEIGHT = 224\n",
        "IMG_WIDTH = 224"
      ],
      "execution_count": 15,
      "outputs": []
    },
    {
      "cell_type": "code",
      "metadata": {
        "id": "B1wNKMo1tCAt",
        "colab_type": "code",
        "colab": {}
      },
      "source": [
        "from tensorflow.keras.preprocessing.image import ImageDataGenerator\n",
        "\n",
        "train_image_generator = ImageDataGenerator(rescale=1./255) # Generator for our training data\n",
        "validation_image_generator = ImageDataGenerator(rescale=1./255) # Generator for our validation data"
      ],
      "execution_count": 16,
      "outputs": []
    },
    {
      "cell_type": "code",
      "metadata": {
        "id": "ndsuM4L9tCAv",
        "colab_type": "code",
        "colab": {
          "base_uri": "https://localhost:8080/",
          "height": 34
        },
        "outputId": "a7cff0f7-6f14-4ede-bff3-fb0c3f927658"
      },
      "source": [
        "train_data_gen = train_image_generator.flow_from_directory(batch_size=batch_size,\n",
        "                                                           directory=train_dir,\n",
        "                                                           shuffle=True,\n",
        "                                                           target_size=(IMG_HEIGHT, IMG_WIDTH),\n",
        "                                                           class_mode='binary')"
      ],
      "execution_count": 17,
      "outputs": [
        {
          "output_type": "stream",
          "text": [
            "Found 533 images belonging to 2 classes.\n"
          ],
          "name": "stdout"
        }
      ]
    },
    {
      "cell_type": "code",
      "metadata": {
        "id": "9kxlk3optCAy",
        "colab_type": "code",
        "colab": {
          "base_uri": "https://localhost:8080/",
          "height": 34
        },
        "outputId": "4eefacde-b488-46b2-deab-578f77fc3df5"
      },
      "source": [
        "val_data_gen = validation_image_generator.flow_from_directory(batch_size=batch_size,\n",
        "                                                              directory=validation_dir,\n",
        "                                                              target_size=(IMG_HEIGHT, IMG_WIDTH),\n",
        "                                                              class_mode='binary')"
      ],
      "execution_count": 18,
      "outputs": [
        {
          "output_type": "stream",
          "text": [
            "Found 195 images belonging to 2 classes.\n"
          ],
          "name": "stdout"
        }
      ]
    },
    {
      "cell_type": "markdown",
      "metadata": {
        "id": "2l7ue6NutCA0",
        "colab_type": "text"
      },
      "source": [
        "## Instatiate Model"
      ]
    },
    {
      "cell_type": "code",
      "metadata": {
        "id": "mKNIYOEItCA0",
        "colab_type": "code",
        "colab": {
          "base_uri": "https://localhost:8080/",
          "height": 51
        },
        "outputId": "567df6d5-b7c9-49c5-cbd3-4c4ab3129097"
      },
      "source": [
        "import numpy as np\n",
        " \n",
        "from tensorflow.keras.applications.resnet50 import ResNet50\n",
        "from tensorflow.keras.preprocessing import image\n",
        "from tensorflow.keras.applications.resnet50 import preprocess_input, decode_predictions\n",
        " \n",
        "from tensorflow.keras.layers import Dense, GlobalAveragePooling2D\n",
        "from tensorflow.keras.models import Model # This is the functional API\n",
        " \n",
        "resnet = ResNet50(weights='imagenet', include_top=False)"
      ],
      "execution_count": 19,
      "outputs": [
        {
          "output_type": "stream",
          "text": [
            "Downloading data from https://storage.googleapis.com/tensorflow/keras-applications/resnet/resnet50_weights_tf_dim_ordering_tf_kernels_notop.h5\n",
            "94773248/94765736 [==============================] - 1s 0us/step\n"
          ],
          "name": "stdout"
        }
      ]
    },
    {
      "cell_type": "code",
      "metadata": {
        "id": "2z8CFmPVZwvo",
        "colab_type": "code",
        "colab": {}
      },
      "source": [
        "for layer in resnet.layers:\n",
        "    layer.trainable = False"
      ],
      "execution_count": 20,
      "outputs": []
    },
    {
      "cell_type": "code",
      "metadata": {
        "id": "w60xrmaKZ1MQ",
        "colab_type": "code",
        "colab": {}
      },
      "source": [
        "x = resnet.output\n",
        "x = GlobalAveragePooling2D()(x) \n",
        "x = Dense(1024, activation='relu')(x)\n",
        "predictions = Dense(1, activation='sigmoid')(x)\n",
        "model = Model(resnet.input, predictions)"
      ],
      "execution_count": 21,
      "outputs": []
    },
    {
      "cell_type": "code",
      "metadata": {
        "id": "WlzaL2PjZ648",
        "colab_type": "code",
        "colab": {}
      },
      "source": [
        "model.compile(optimizer='adam',\n",
        "              loss='binary_crossentropy',\n",
        "              metrics=['accuracy'])"
      ],
      "execution_count": 22,
      "outputs": []
    },
    {
      "cell_type": "markdown",
      "metadata": {
        "id": "BVPBWYG7tCA2",
        "colab_type": "text"
      },
      "source": [
        "## Fit Model"
      ]
    },
    {
      "cell_type": "code",
      "metadata": {
        "id": "H4XdvWA5tCA3",
        "colab_type": "code",
        "colab": {
          "base_uri": "https://localhost:8080/",
          "height": 1000
        },
        "outputId": "3d91c83f-64b0-4eb3-a766-56aa531ffab7"
      },
      "source": [
        "history = model.fit(\n",
        "    train_data_gen,\n",
        "    steps_per_epoch=total_train // batch_size,\n",
        "    epochs=epochs,\n",
        "    validation_data=val_data_gen,\n",
        "    validation_steps=total_val // batch_size\n",
        ")"
      ],
      "execution_count": 23,
      "outputs": [
        {
          "output_type": "stream",
          "text": [
            "Epoch 1/50\n",
            "32/32 [==============================] - 4s 111ms/step - loss: 0.8369 - accuracy: 0.5170 - val_loss: 0.7020 - val_accuracy: 0.5284\n",
            "Epoch 2/50\n",
            "32/32 [==============================] - 3s 79ms/step - loss: 0.6337 - accuracy: 0.6307 - val_loss: 0.6852 - val_accuracy: 0.5000\n",
            "Epoch 3/50\n",
            "32/32 [==============================] - 3s 78ms/step - loss: 0.5401 - accuracy: 0.7485 - val_loss: 0.5653 - val_accuracy: 0.7784\n",
            "Epoch 4/50\n",
            "32/32 [==============================] - 2s 78ms/step - loss: 0.4880 - accuracy: 0.7904 - val_loss: 0.4761 - val_accuracy: 0.8295\n",
            "Epoch 5/50\n",
            "32/32 [==============================] - 2s 78ms/step - loss: 0.5031 - accuracy: 0.7385 - val_loss: 0.4349 - val_accuracy: 0.7727\n",
            "Epoch 6/50\n",
            "32/32 [==============================] - 3s 79ms/step - loss: 0.5243 - accuracy: 0.7206 - val_loss: 0.3958 - val_accuracy: 0.8011\n",
            "Epoch 7/50\n",
            "32/32 [==============================] - 3s 78ms/step - loss: 0.4051 - accuracy: 0.8496 - val_loss: 0.4260 - val_accuracy: 0.8580\n",
            "Epoch 8/50\n",
            "32/32 [==============================] - 2s 78ms/step - loss: 0.3586 - accuracy: 0.8723 - val_loss: 0.4206 - val_accuracy: 0.8182\n",
            "Epoch 9/50\n",
            "32/32 [==============================] - 2s 77ms/step - loss: 0.3748 - accuracy: 0.8283 - val_loss: 0.3402 - val_accuracy: 0.8636\n",
            "Epoch 10/50\n",
            "32/32 [==============================] - 3s 78ms/step - loss: 0.3403 - accuracy: 0.8583 - val_loss: 0.3243 - val_accuracy: 0.9091\n",
            "Epoch 11/50\n",
            "32/32 [==============================] - 2s 77ms/step - loss: 0.3158 - accuracy: 0.8882 - val_loss: 0.4386 - val_accuracy: 0.8182\n",
            "Epoch 12/50\n",
            "32/32 [==============================] - 2s 78ms/step - loss: 0.2928 - accuracy: 0.8982 - val_loss: 0.3031 - val_accuracy: 0.8920\n",
            "Epoch 13/50\n",
            "32/32 [==============================] - 3s 78ms/step - loss: 0.2640 - accuracy: 0.9062 - val_loss: 0.4825 - val_accuracy: 0.8125\n",
            "Epoch 14/50\n",
            "32/32 [==============================] - 2s 78ms/step - loss: 0.3230 - accuracy: 0.8683 - val_loss: 0.2633 - val_accuracy: 0.9432\n",
            "Epoch 15/50\n",
            "32/32 [==============================] - 3s 78ms/step - loss: 0.2489 - accuracy: 0.9121 - val_loss: 0.2753 - val_accuracy: 0.8920\n",
            "Epoch 16/50\n",
            "32/32 [==============================] - 3s 78ms/step - loss: 0.2320 - accuracy: 0.9162 - val_loss: 0.3331 - val_accuracy: 0.8580\n",
            "Epoch 17/50\n",
            "32/32 [==============================] - 3s 78ms/step - loss: 0.2542 - accuracy: 0.9102 - val_loss: 0.3652 - val_accuracy: 0.8466\n",
            "Epoch 18/50\n",
            "32/32 [==============================] - 2s 78ms/step - loss: 0.2024 - accuracy: 0.9441 - val_loss: 0.7629 - val_accuracy: 0.6477\n",
            "Epoch 19/50\n",
            "32/32 [==============================] - 2s 78ms/step - loss: 0.2746 - accuracy: 0.9022 - val_loss: 0.2458 - val_accuracy: 0.9375\n",
            "Epoch 20/50\n",
            "32/32 [==============================] - 2s 78ms/step - loss: 0.1961 - accuracy: 0.9361 - val_loss: 0.2474 - val_accuracy: 0.9091\n",
            "Epoch 21/50\n",
            "32/32 [==============================] - 2s 77ms/step - loss: 0.2521 - accuracy: 0.8962 - val_loss: 0.2540 - val_accuracy: 0.9091\n",
            "Epoch 22/50\n",
            "32/32 [==============================] - 3s 79ms/step - loss: 0.2288 - accuracy: 0.8982 - val_loss: 0.2301 - val_accuracy: 0.9318\n",
            "Epoch 23/50\n",
            "32/32 [==============================] - 2s 78ms/step - loss: 0.2016 - accuracy: 0.9122 - val_loss: 0.2938 - val_accuracy: 0.8864\n",
            "Epoch 24/50\n",
            "32/32 [==============================] - 3s 79ms/step - loss: 0.1564 - accuracy: 0.9541 - val_loss: 0.2886 - val_accuracy: 0.8807\n",
            "Epoch 25/50\n",
            "32/32 [==============================] - 3s 80ms/step - loss: 0.1642 - accuracy: 0.9341 - val_loss: 0.2489 - val_accuracy: 0.9091\n",
            "Epoch 26/50\n",
            "32/32 [==============================] - 3s 80ms/step - loss: 0.1349 - accuracy: 0.9590 - val_loss: 0.2119 - val_accuracy: 0.9432\n",
            "Epoch 27/50\n",
            "32/32 [==============================] - 3s 79ms/step - loss: 0.1468 - accuracy: 0.9481 - val_loss: 0.2085 - val_accuracy: 0.9432\n",
            "Epoch 28/50\n",
            "32/32 [==============================] - 2s 78ms/step - loss: 0.1436 - accuracy: 0.9521 - val_loss: 0.1818 - val_accuracy: 0.9432\n",
            "Epoch 29/50\n",
            "32/32 [==============================] - 3s 78ms/step - loss: 0.1739 - accuracy: 0.9321 - val_loss: 0.1982 - val_accuracy: 0.9205\n",
            "Epoch 30/50\n",
            "32/32 [==============================] - 2s 78ms/step - loss: 0.1439 - accuracy: 0.9421 - val_loss: 0.3730 - val_accuracy: 0.8409\n",
            "Epoch 31/50\n",
            "32/32 [==============================] - 2s 78ms/step - loss: 0.1726 - accuracy: 0.9281 - val_loss: 0.2211 - val_accuracy: 0.9091\n",
            "Epoch 32/50\n",
            "32/32 [==============================] - 2s 78ms/step - loss: 0.1260 - accuracy: 0.9621 - val_loss: 0.2700 - val_accuracy: 0.8977\n",
            "Epoch 33/50\n",
            "32/32 [==============================] - 2s 78ms/step - loss: 0.1600 - accuracy: 0.9321 - val_loss: 0.1950 - val_accuracy: 0.9375\n",
            "Epoch 34/50\n",
            "32/32 [==============================] - 2s 78ms/step - loss: 0.1627 - accuracy: 0.9341 - val_loss: 0.2130 - val_accuracy: 0.9148\n",
            "Epoch 35/50\n",
            "32/32 [==============================] - 3s 78ms/step - loss: 0.1168 - accuracy: 0.9601 - val_loss: 0.3429 - val_accuracy: 0.8523\n",
            "Epoch 36/50\n",
            "32/32 [==============================] - 3s 80ms/step - loss: 0.2062 - accuracy: 0.9261 - val_loss: 0.2853 - val_accuracy: 0.8920\n",
            "Epoch 37/50\n",
            "32/32 [==============================] - 3s 79ms/step - loss: 0.1368 - accuracy: 0.9441 - val_loss: 0.2127 - val_accuracy: 0.9432\n",
            "Epoch 38/50\n",
            "32/32 [==============================] - 3s 80ms/step - loss: 0.1619 - accuracy: 0.9341 - val_loss: 0.7690 - val_accuracy: 0.6989\n",
            "Epoch 39/50\n",
            "32/32 [==============================] - 3s 80ms/step - loss: 0.1479 - accuracy: 0.9421 - val_loss: 0.4908 - val_accuracy: 0.8125\n",
            "Epoch 40/50\n",
            "32/32 [==============================] - 3s 78ms/step - loss: 0.1507 - accuracy: 0.9441 - val_loss: 0.6122 - val_accuracy: 0.7670\n",
            "Epoch 41/50\n",
            "32/32 [==============================] - 2s 78ms/step - loss: 0.1849 - accuracy: 0.9301 - val_loss: 0.1944 - val_accuracy: 0.9375\n",
            "Epoch 42/50\n",
            "32/32 [==============================] - 2s 78ms/step - loss: 0.1170 - accuracy: 0.9481 - val_loss: 0.2253 - val_accuracy: 0.9318\n",
            "Epoch 43/50\n",
            "32/32 [==============================] - 2s 78ms/step - loss: 0.0932 - accuracy: 0.9661 - val_loss: 0.2427 - val_accuracy: 0.9261\n",
            "Epoch 44/50\n",
            "32/32 [==============================] - 2s 77ms/step - loss: 0.1002 - accuracy: 0.9581 - val_loss: 0.2904 - val_accuracy: 0.8750\n",
            "Epoch 45/50\n",
            "32/32 [==============================] - 2s 78ms/step - loss: 0.1177 - accuracy: 0.9581 - val_loss: 0.3304 - val_accuracy: 0.8693\n",
            "Epoch 46/50\n",
            "32/32 [==============================] - 2s 78ms/step - loss: 0.0738 - accuracy: 0.9780 - val_loss: 0.1845 - val_accuracy: 0.9375\n",
            "Epoch 47/50\n",
            "32/32 [==============================] - 2s 78ms/step - loss: 0.0870 - accuracy: 0.9668 - val_loss: 0.1959 - val_accuracy: 0.9489\n",
            "Epoch 48/50\n",
            "32/32 [==============================] - 2s 78ms/step - loss: 0.0948 - accuracy: 0.9621 - val_loss: 0.3306 - val_accuracy: 0.8807\n",
            "Epoch 49/50\n",
            "32/32 [==============================] - 2s 77ms/step - loss: 0.1116 - accuracy: 0.9541 - val_loss: 0.7340 - val_accuracy: 0.7557\n",
            "Epoch 50/50\n",
            "32/32 [==============================] - 2s 78ms/step - loss: 0.1116 - accuracy: 0.9461 - val_loss: 0.5563 - val_accuracy: 0.8295\n"
          ],
          "name": "stdout"
        }
      ]
    },
    {
      "cell_type": "markdown",
      "metadata": {
        "id": "UPzsgS94tCA5",
        "colab_type": "text"
      },
      "source": [
        "# Custom CNN Model\n",
        "\n",
        "In this step, write and train your own convolutional neural network using Keras. You can use any architecture that suits you as long as it has at least one convolutional and one pooling layer at the beginning of the network - you can add more if you want. "
      ]
    },
    {
      "cell_type": "code",
      "metadata": {
        "id": "0LuqxkqZc-qU",
        "colab_type": "code",
        "colab": {}
      },
      "source": [
        "from tensorflow.keras import datasets\n",
        "from tensorflow.keras.models import Sequential, Model\n",
        "from tensorflow.keras.layers import Dense, Conv2D, MaxPooling2D, Flatten"
      ],
      "execution_count": 24,
      "outputs": []
    },
    {
      "cell_type": "code",
      "metadata": {
        "id": "hnbJJie3tCA5",
        "colab_type": "code",
        "colab": {}
      },
      "source": [
        "# Define the Model\n",
        "model = Sequential()\n",
        "model.add(Conv2D(32, (3,3), activation='relu'))\n",
        "model.add(MaxPooling2D((2,2)))\n",
        "model.add(Conv2D(64, (3,3), activation='relu'))\n",
        "model.add(MaxPooling2D((2,2)))\n",
        "model.add(Flatten())\n",
        "model.add(Dense(64, activation='relu'))\n",
        "model.add(Dense(1, activation='sigmoid'))\n",
        "\n"
      ],
      "execution_count": 25,
      "outputs": []
    },
    {
      "cell_type": "code",
      "metadata": {
        "id": "1P_mRtoutCA9",
        "colab_type": "code",
        "colab": {}
      },
      "source": [
        "# Compile Model\n",
        "model.compile(optimizer='adam',\n",
        "              loss='binary_crossentropy',\n",
        "              metrics=['accuracy'])"
      ],
      "execution_count": 26,
      "outputs": []
    },
    {
      "cell_type": "code",
      "metadata": {
        "id": "CwM4GsaetCA_",
        "colab_type": "code",
        "colab": {
          "base_uri": "https://localhost:8080/",
          "height": 357
        },
        "outputId": "d787f874-288c-4e2a-f4e5-805be852725e"
      },
      "source": [
        "# Fit Model\n",
        "history = model.fit(\n",
        "    train_data_gen,\n",
        "    steps_per_epoch=total_train // batch_size,\n",
        "    epochs=10,\n",
        "    validation_data=val_data_gen,\n",
        "    validation_steps=total_val // batch_size\n",
        ")"
      ],
      "execution_count": 27,
      "outputs": [
        {
          "output_type": "stream",
          "text": [
            "Epoch 1/10\n",
            "32/32 [==============================] - 2s 63ms/step - loss: 0.9512 - accuracy: 0.7764 - val_loss: 0.2795 - val_accuracy: 0.8920\n",
            "Epoch 2/10\n",
            "32/32 [==============================] - 2s 57ms/step - loss: 0.2954 - accuracy: 0.8862 - val_loss: 0.1861 - val_accuracy: 0.9205\n",
            "Epoch 3/10\n",
            "32/32 [==============================] - 2s 59ms/step - loss: 0.1813 - accuracy: 0.9261 - val_loss: 0.2028 - val_accuracy: 0.9148\n",
            "Epoch 4/10\n",
            "32/32 [==============================] - 2s 59ms/step - loss: 0.1136 - accuracy: 0.9501 - val_loss: 0.2480 - val_accuracy: 0.9205\n",
            "Epoch 5/10\n",
            "32/32 [==============================] - 2s 59ms/step - loss: 0.0726 - accuracy: 0.9741 - val_loss: 0.2185 - val_accuracy: 0.9091\n",
            "Epoch 6/10\n",
            "32/32 [==============================] - 2s 59ms/step - loss: 0.0547 - accuracy: 0.9800 - val_loss: 0.2296 - val_accuracy: 0.9205\n",
            "Epoch 7/10\n",
            "32/32 [==============================] - 2s 59ms/step - loss: 0.0767 - accuracy: 0.9721 - val_loss: 0.1100 - val_accuracy: 0.9545\n",
            "Epoch 8/10\n",
            "32/32 [==============================] - 2s 60ms/step - loss: 0.0216 - accuracy: 0.9920 - val_loss: 0.1089 - val_accuracy: 0.9545\n",
            "Epoch 9/10\n",
            "32/32 [==============================] - 2s 59ms/step - loss: 0.0849 - accuracy: 0.9641 - val_loss: 0.0957 - val_accuracy: 0.9545\n",
            "Epoch 10/10\n",
            "32/32 [==============================] - 2s 59ms/step - loss: 0.0600 - accuracy: 0.9880 - val_loss: 0.2081 - val_accuracy: 0.9318\n"
          ],
          "name": "stdout"
        }
      ]
    },
    {
      "cell_type": "markdown",
      "metadata": {
        "id": "FNTHjUddtCBB",
        "colab_type": "text"
      },
      "source": [
        "# Custom CNN Model with Image Manipulations\n",
        "\n",
        "To simulate an increase in a sample of image, you can apply image manipulation techniques: cropping, rotation, stretching, etc. Luckily Keras has some handy functions for us to apply these techniques to our mountain and forest example. Simply, you should be able to modify our image generator for the problem. Check out these resources to help you get started: \n",
        "\n",
        "1. [Keras `ImageGenerator` Class](https://keras.io/preprocessing/image/#imagedatagenerator-class)\n",
        "2. [Building a powerful image classifier with very little data](https://blog.keras.io/building-powerful-image-classification-models-using-very-little-data.html)\n",
        " "
      ]
    },
    {
      "cell_type": "code",
      "metadata": {
        "id": "izY1J5GwjV6g",
        "colab_type": "code",
        "colab": {}
      },
      "source": [
        "# Define the Model\n",
        "model = Sequential()\n",
        "model.add(Conv2D(32, (3,3), activation='relu'))\n",
        "model.add(MaxPooling2D((2,2)))\n",
        "model.add(Conv2D(64, (3,3), activation='relu'))\n",
        "model.add(MaxPooling2D((2,2)))\n",
        "model.add(Flatten())\n",
        "model.add(Dense(64, activation='relu'))\n",
        "model.add(Dense(1, activation='sigmoid'))\n"
      ],
      "execution_count": 28,
      "outputs": []
    },
    {
      "cell_type": "code",
      "metadata": {
        "id": "j9xD8WSmfrPa",
        "colab_type": "code",
        "colab": {}
      },
      "source": [
        "# Compile Model\n",
        "model.compile(optimizer='adam',\n",
        "              loss='binary_crossentropy',\n",
        "              metrics=['accuracy'])"
      ],
      "execution_count": 29,
      "outputs": []
    },
    {
      "cell_type": "code",
      "metadata": {
        "id": "hTt6g7IxkSdY",
        "colab_type": "code",
        "colab": {
          "base_uri": "https://localhost:8080/",
          "height": 34
        },
        "outputId": "5b3fe783-6334-4274-d7eb-94a5475e7f63"
      },
      "source": [
        "train_image_generator = ImageDataGenerator(\n",
        "                                           rescale=1./255,\n",
        "                                           shear_range=0.2,\n",
        "                                           zoom_range=0.2,\n",
        "                                           horizontal_flip=True\n",
        "                                          )\n",
        "train_data_gen = train_image_generator.flow_from_directory(\n",
        "                                                           batch_size=batch_size,\n",
        "                                                           directory=train_dir,\n",
        "                                                           shuffle=True,\n",
        "                                                           target_size=(IMG_HEIGHT, IMG_WIDTH),\n",
        "                                                           class_mode='binary'\n",
        "                                                           )"
      ],
      "execution_count": 30,
      "outputs": [
        {
          "output_type": "stream",
          "text": [
            "Found 533 images belonging to 2 classes.\n"
          ],
          "name": "stdout"
        }
      ]
    },
    {
      "cell_type": "code",
      "metadata": {
        "id": "GZi-QYlRjN9x",
        "colab_type": "code",
        "colab": {
          "base_uri": "https://localhost:8080/",
          "height": 428
        },
        "outputId": "ccb26cb2-a684-4dd6-95bc-551cc9e38035"
      },
      "source": [
        "# Fit Model\n",
        "history_gen = model.fit_generator(\n",
        "    train_data_gen,\n",
        "    steps_per_epoch=total_train // batch_size,\n",
        "    epochs=10,\n",
        "    validation_data=val_data_gen,\n",
        "    validation_steps=total_val // batch_size\n",
        ")"
      ],
      "execution_count": 31,
      "outputs": [
        {
          "output_type": "stream",
          "text": [
            "WARNING:tensorflow:From <ipython-input-31-333dae1b9a03>:7: Model.fit_generator (from tensorflow.python.keras.engine.training) is deprecated and will be removed in a future version.\n",
            "Instructions for updating:\n",
            "Please use Model.fit, which supports generators.\n",
            "Epoch 1/10\n",
            "32/32 [==============================] - 7s 207ms/step - loss: 0.5214 - accuracy: 0.8383 - val_loss: 0.4439 - val_accuracy: 0.8068\n",
            "Epoch 2/10\n",
            "32/32 [==============================] - 6s 199ms/step - loss: 0.1889 - accuracy: 0.9242 - val_loss: 0.4215 - val_accuracy: 0.8636\n",
            "Epoch 3/10\n",
            "32/32 [==============================] - 6s 202ms/step - loss: 0.2462 - accuracy: 0.8962 - val_loss: 0.2058 - val_accuracy: 0.9148\n",
            "Epoch 4/10\n",
            "32/32 [==============================] - 7s 203ms/step - loss: 0.2279 - accuracy: 0.8962 - val_loss: 0.5059 - val_accuracy: 0.7841\n",
            "Epoch 5/10\n",
            "32/32 [==============================] - 6s 199ms/step - loss: 0.1597 - accuracy: 0.9321 - val_loss: 0.1735 - val_accuracy: 0.9261\n",
            "Epoch 6/10\n",
            "32/32 [==============================] - 7s 204ms/step - loss: 0.1388 - accuracy: 0.9441 - val_loss: 0.2487 - val_accuracy: 0.9318\n",
            "Epoch 7/10\n",
            "32/32 [==============================] - 7s 204ms/step - loss: 0.1422 - accuracy: 0.9441 - val_loss: 0.8292 - val_accuracy: 0.7670\n",
            "Epoch 8/10\n",
            "32/32 [==============================] - 7s 204ms/step - loss: 0.1373 - accuracy: 0.9361 - val_loss: 0.1897 - val_accuracy: 0.9318\n",
            "Epoch 9/10\n",
            "32/32 [==============================] - 7s 203ms/step - loss: 0.1145 - accuracy: 0.9541 - val_loss: 0.2371 - val_accuracy: 0.9205\n",
            "Epoch 10/10\n",
            "32/32 [==============================] - 7s 203ms/step - loss: 0.1199 - accuracy: 0.9501 - val_loss: 0.2046 - val_accuracy: 0.9205\n"
          ],
          "name": "stdout"
        }
      ]
    },
    {
      "cell_type": "code",
      "metadata": {
        "id": "KxgkPzPe1JsP",
        "colab_type": "code",
        "colab": {}
      },
      "source": [
        "def process_img_path(img_path):\n",
        "  return image.load_img(img_path, target_size=(224, 224))"
      ],
      "execution_count": 32,
      "outputs": []
    },
    {
      "cell_type": "code",
      "metadata": {
        "id": "frSVAQiL1LFN",
        "colab_type": "code",
        "colab": {}
      },
      "source": [
        "f = process_img_path('/content/Moving_Forest_1050_700.jpg')\n",
        "m = process_img_path('/content/unnamed.jpg')"
      ],
      "execution_count": 37,
      "outputs": []
    },
    {
      "cell_type": "code",
      "metadata": {
        "id": "XTiKqy0R1SME",
        "colab_type": "code",
        "colab": {}
      },
      "source": [
        "mountain = np.expand_dims(image.img_to_array(m), axis=0) / 255.0\n",
        "forest = np.expand_dims(image.img_to_array(f), axis=0) / 255.0"
      ],
      "execution_count": 38,
      "outputs": []
    },
    {
      "cell_type": "code",
      "metadata": {
        "id": "DWVpylOx1T2Z",
        "colab_type": "code",
        "colab": {
          "base_uri": "https://localhost:8080/",
          "height": 51
        },
        "outputId": "9e0ece8a-0182-4059-f9ee-9768a7bbb700"
      },
      "source": [
        "print(f'mountain:{model.predict(mountain)[0][0]}')\n",
        "print(f'forest:{model.predict(forest)[0][0]:.12f}')"
      ],
      "execution_count": 39,
      "outputs": [
        {
          "output_type": "stream",
          "text": [
            "mountain:0.994476854801178\n",
            "forest:0.000000000000\n"
          ],
          "name": "stdout"
        }
      ]
    },
    {
      "cell_type": "markdown",
      "metadata": {
        "colab_type": "text",
        "id": "uT3UV3gap9H6"
      },
      "source": [
        "# Resources and Stretch Goals\n",
        "\n",
        "Stretch goals\n",
        "- Enhance your code to use classes/functions and accept terms to search and classes to look for in recognizing the downloaded images (e.g. download images of parties, recognize all that contain balloons)\n",
        "- Check out [other available pretrained networks](https://tfhub.dev), try some and compare\n",
        "- Image recognition/classification is somewhat solved, but *relationships* between entities and describing an image is not - check out some of the extended resources (e.g. [Visual Genome](https://visualgenome.org/)) on the topic\n",
        "- Transfer learning - using images you source yourself, [retrain a classifier](https://www.tensorflow.org/hub/tutorials/image_retraining) with a new category\n",
        "- (Not CNN related) Use [piexif](https://pypi.org/project/piexif/) to check out the metadata of images passed in to your system - see if they're from a national park! (Note - many images lack GPS metadata, so this won't work in most cases, but still cool)\n",
        "\n",
        "Resources\n",
        "- [Deep Residual Learning for Image Recognition](https://arxiv.org/abs/1512.03385) - influential paper (introduced ResNet)\n",
        "- [YOLO: Real-Time Object Detection](https://pjreddie.com/darknet/yolo/) - an influential convolution based object detection system, focused on inference speed (for applications to e.g. self driving vehicles)\n",
        "- [R-CNN, Fast R-CNN, Faster R-CNN, YOLO](https://towardsdatascience.com/r-cnn-fast-r-cnn-faster-r-cnn-yolo-object-detection-algorithms-36d53571365e) - comparison of object detection systems\n",
        "- [Common Objects in Context](http://cocodataset.org/) - a large-scale object detection, segmentation, and captioning dataset\n",
        "- [Visual Genome](https://visualgenome.org/) - a dataset, a knowledge base, an ongoing effort to connect structured image concepts to language"
      ]
    }
  ]
}